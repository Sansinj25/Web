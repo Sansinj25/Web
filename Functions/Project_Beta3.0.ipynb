{
 "cells": [
  {
   "cell_type": "code",
   "execution_count": 1,
   "metadata": {},
   "outputs": [],
   "source": [
    "# ----- Librairies ----- #\n",
    "import pandas as pd\n",
    "import re\n",
    "import sys\n",
    "import numpy as np\n",
    "import nltk\n",
    "from nltk.corpus import wordnet as wn\n",
    "from nltk import pos_tag\n",
    "from nltk.tag import UnigramTagger\n",
    "from nltk.corpus import brown\n",
    "import webcolors\n",
    "from IPython.display import display\n",
    "\n",
    "import matplotlib.pyplot as plt\n",
    "import math\n",
    "\n",
    "from sklearn.neighbors import NearestNeighbors\n",
    "\n",
    "sys.path.append(\"..\")\n",
    "from ADA_JEX2017.Project.Functions.str_functions import *\n",
    "from ADA_JEX2017.Project.Functions.pre_process import *\n",
    "\n",
    "\n",
    "\n",
    "\n"
   ]
  },
  {
   "cell_type": "code",
   "execution_count": 3,
   "metadata": {},
   "outputs": [],
   "source": [
    "path='../ADA_JEX2017/Project/Functions/'\n",
    "#our datafile exported to csv\n",
    "# ----- Loading the dataset'recipeInfo_WestWhiteHorvitz_WWW2013.csv' ----- #\n",
    "data_file='./recipeInfo/recipeInfo_WestWhiteHorvitz_WWW2013_v2.csv'\n",
    "raw_data = pd.read_csv(data_file ,sep=';')"
   ]
  },
  {
   "cell_type": "code",
   "execution_count": 4,
   "metadata": {
    "collapsed": true
   },
   "outputs": [],
   "source": [
    "# ----- Initializing and loading the list of techniques, units and ingredients created previously ----- #\n",
    "with open('units_list.txt', 'r') as f:\n",
    "    units_list = [line.rstrip('\\n') for line in f]\n",
    "    \n",
    "with open('technique_list.txt', 'r') as f:\n",
    "    techniques_list = [line.rstrip('\\n') for line in f]\n",
    "\n",
    "with open('ingredient_list.txt', 'r') as f:\n",
    "    ingredient_list = [line.rstrip('\\n') for line in f]\n",
    "\n",
    "# ----- Initialize lemmatizer and apply on the data ----- #\n",
    "# Lemmatizer is used to get the stem of each word in order to get a more homogeneous data\n",
    "lemmatizer = WordNetLemmatizer()\n",
    "ingredient_list=[lemmatizer.lemmatize(token).lower() for token in ingredient_list]"
   ]
  },
  {
   "cell_type": "code",
   "execution_count": 5,
   "metadata": {},
   "outputs": [
    {
     "data": {
      "text/html": [
       "<div>\n",
       "<style>\n",
       "    .dataframe thead tr:only-child th {\n",
       "        text-align: right;\n",
       "    }\n",
       "\n",
       "    .dataframe thead th {\n",
       "        text-align: left;\n",
       "    }\n",
       "\n",
       "    .dataframe tbody tr th {\n",
       "        vertical-align: top;\n",
       "    }\n",
       "</style>\n",
       "<table border=\"1\" class=\"dataframe\">\n",
       "  <thead>\n",
       "    <tr style=\"text-align: right;\">\n",
       "      <th></th>\n",
       "      <th>title</th>\n",
       "      <th>ingredients_list</th>\n",
       "      <th>ingredients_bag-of-words</th>\n",
       "    </tr>\n",
       "  </thead>\n",
       "  <tbody>\n",
       "    <tr>\n",
       "      <th>0</th>\n",
       "      <td>Easy Light Chocolate Milkshake Recipe</td>\n",
       "      <td>put one half cup of milk, 4 tablespoons of cho...</td>\n",
       "      <td>! , . 4 ? and are blend chocolate cup enjoy ex...</td>\n",
       "    </tr>\n",
       "    <tr>\n",
       "      <th>1</th>\n",
       "      <td>Lamb Stew Recipe : : Recipes : Food Network</td>\n",
       "      <td>5 yellow onions|2 turnips|5 carrots|1 stalk fe...</td>\n",
       "      <td>, 1 1\\/2 1\\/4 1\\/8 1Â 1\\/2 2 3 5 and anise app...</td>\n",
       "    </tr>\n",
       "    <tr>\n",
       "      <th>2</th>\n",
       "      <td>Chocolate Bread Pudding Recipe : Paula Deen : ...</td>\n",
       "      <td>1 (1-pound) loaf French or Italian bread, cube...</td>\n",
       "      <td>, -lrb- -rrb- 1 1-pound 1\\/2 1\\/4 1Â 1\\/2 2 3 ...</td>\n",
       "    </tr>\n",
       "    <tr>\n",
       "      <th>3</th>\n",
       "      <td>Snowball Cookies II Recipe</td>\n",
       "      <td>1/2 cup powdered sugar|1/3 cup butter or marga...</td>\n",
       "      <td>1 1\\/2 1\\/3 2 almond baking bisquick butter ch...</td>\n",
       "    </tr>\n",
       "    <tr>\n",
       "      <th>4</th>\n",
       "      <td>Old Fashioned Butterscotch Pie Recipe #31698</td>\n",
       "      <td>1 1/2 cup brown sugar|1 cup water|3 eggs|4 tab...</td>\n",
       "      <td>1 1\\/2 1\\/4 1Â 1\\/2 3 4 brown butter cream cup...</td>\n",
       "    </tr>\n",
       "  </tbody>\n",
       "</table>\n",
       "</div>"
      ],
      "text/plain": [
       "                                               title  \\\n",
       "0              Easy Light Chocolate Milkshake Recipe   \n",
       "1        Lamb Stew Recipe : : Recipes : Food Network   \n",
       "2  Chocolate Bread Pudding Recipe : Paula Deen : ...   \n",
       "3                         Snowball Cookies II Recipe   \n",
       "4       Old Fashioned Butterscotch Pie Recipe #31698   \n",
       "\n",
       "                                    ingredients_list  \\\n",
       "0  put one half cup of milk, 4 tablespoons of cho...   \n",
       "1  5 yellow onions|2 turnips|5 carrots|1 stalk fe...   \n",
       "2  1 (1-pound) loaf French or Italian bread, cube...   \n",
       "3  1/2 cup powdered sugar|1/3 cup butter or marga...   \n",
       "4  1 1/2 cup brown sugar|1 cup water|3 eggs|4 tab...   \n",
       "\n",
       "                            ingredients_bag-of-words  \n",
       "0  ! , . 4 ? and are blend chocolate cup enjoy ex...  \n",
       "1  , 1 1\\/2 1\\/4 1\\/8 1Â 1\\/2 2 3 5 and anise app...  \n",
       "2  , -lrb- -rrb- 1 1-pound 1\\/2 1\\/4 1Â 1\\/2 2 3 ...  \n",
       "3  1 1\\/2 1\\/3 2 almond baking bisquick butter ch...  \n",
       "4  1 1\\/2 1\\/4 1Â 1\\/2 3 4 brown butter cream cup...  "
      ]
     },
     "metadata": {},
     "output_type": "display_data"
    }
   ],
   "source": [
    "# ----- Make a dataframe with our data while dropping the NaN values ----- #\n",
    "ingr_dataframe=raw_data[['title','ingredients_list','ingredients_bag-of-words']].copy().dropna()\n",
    "ingr_dataframe = ingr_dataframe.reset_index(drop=True)\n",
    "display(ingr_dataframe.head())\n",
    "\n",
    "# Ignore upper case in the ingredients list string\n",
    "ingr_dataframe['ingredients_list']=ingr_dataframe['ingredients_list'].str.lower()\n",
    "\n",
    "#ingr_data_reduced=ingr_dataframe.head(100) # create a reduced data as draft to test when creating new functions"
   ]
  },
  {
   "cell_type": "code",
   "execution_count": 6,
   "metadata": {
    "collapsed": true
   },
   "outputs": [],
   "source": [
    "# ----- Function to process the text in the ingredient list ----- # cf pre_process.py\n",
    "# We notice that for some ingredients in the ingredients list, the quantity is given twice with one quantity given in volume or mass within parenthesis\n",
    "# Therefore, we apply the next function to return only the wanted quantity\n",
    "fun_add_preprocess(ingr_dataframe,units_list)"
   ]
  },
  {
   "cell_type": "code",
   "execution_count": 83,
   "metadata": {
    "collapsed": true
   },
   "outputs": [],
   "source": [
    "def fun_unit_corrector(string):\n",
    "\n",
    "    newUnit = \"\"\n",
    "    splited_string = string.split(' ')\n",
    "    dict_conver = {'teaspoon' : 5,'tablespoon' :15, 'oz': 30,'cup': 237,'pint' : 474,'quart':946, 'gallon': 3785,'dl' :100,'pound' :453,'ounce' :29,'g' : 1,'kg': 1000,  \\\n",
    "        'l': 1000, 'ml': 1,'mg':1,'bottle':750,'drop':0.05,'pinch':0.36,'jar':1000,'can':330,'unit':'u','gill':118}\n",
    "\n",
    "    teaspoon = ['teaspoon','tsp','tsps','t','teaspoon']\n",
    "    tablespoon = ['tablespoon' ,'T', 'tbl','tbls', 'tbs','tbsp']\n",
    "    oz = ['oz', 'fl', 'fluid ounce']\n",
    "    cup = ['cup', 'c']\n",
    "    pint =  ['pint','p', 'pt','pts', 'fl pt']\n",
    "    quart =  ['quart','q', 'qt','fl qt']\n",
    "    gallon =  ['gallon', 'gal','gals']\n",
    "    ml = ['ml', 'milliliter', 'millilitre', 'cc','mL']\n",
    "    l = ['l', 'liter', 'litre', 'L']\n",
    "    dl = ['dl','deciliter','decilitre','dL']\n",
    "    pound = ['pound','lb','lbs']\n",
    "    ounce = ['ounce','oz']\n",
    "    mg = ['mg','milligram','milligramme']\n",
    "    kg = ['kg', 'kilogramme','kilogram']\n",
    "    g = ['g','gram','gramme']\n",
    "    unit = ['unit','stalk','package']\n",
    "    other_indic=['bottle','pinch','jar','can','drop','gill']\n",
    "\n",
    "    unit_list = [teaspoon, tablespoon, oz, cup, pint, pint, quart, gallon, ml, l, dl, pound, ounce, mg, kg, g]\n",
    "\n",
    "\n",
    "    #if (len(splited_string) == 1 and splited_string[0] == ''):\n",
    "    #    return ''\n",
    "\n",
    "    for lists in unit_list:\n",
    "        for i,x in enumerate(splited_string):\n",
    "            if x in lists:\n",
    "                newUnit = lists[0]\n",
    "                gram_value = float(dict_conver[newUnit]) * fun_covert_to_float(splited_string[abs(i-1)])\n",
    "                return gram_value\n",
    "            if x in other_indic:\n",
    "                gram_value = float(dict_conver[x]) * fun_covert_to_float(splited_string[abs(i-1)])\n",
    "                return gram_value\n",
    "            else:\n",
    "                try:\n",
    "                    return float(splited_string[0])*float(splited_string[1])\n",
    "                except ValueError:\n",
    "                    continue\n",
    "\n",
    "\n",
    "    return 0"
   ]
  },
  {
   "cell_type": "code",
   "execution_count": 87,
   "metadata": {},
   "outputs": [],
   "source": [
    "def fun_extract_ingredients(one_receipe,ingredients_list,techniques_list,units_list,to_gram=True):\n",
    "    ''' Function extractiing all ingredients, quantities and possiblity technics of cooking\n",
    "\n",
    "    '''\n",
    "    lemmatizer = WordNetLemmatizer()\n",
    "    if '|' in one_receipe:\n",
    "        ingredients=one_receipe.split('|')\n",
    "    else:\n",
    "        ingredients=one_receipe.split(', ')\n",
    "\n",
    "    dic_ingre={}\n",
    "    dic_tec={}\n",
    "    wasted_ingr=[]\n",
    "    wasted_number=0\n",
    "    for elem in ingredients:\n",
    "        #split in words\n",
    "        elem=elem.replace('-',' ')\n",
    "        elem_list=elem.split(' ')\n",
    "        #avoid special characters appearing in some recipes:\n",
    "        if '&#' in elem:\n",
    "            continue\n",
    "        #keep only alphanumerics in each words\n",
    "        elem_list=[re.sub('[^0-9a-zA-Z/. ]+', '', x) for x in elem_list]\n",
    "        #keep only the root of the word\n",
    "        check = [lemmatizer.lemmatize(token) for token in elem_list]\n",
    "        #split str of string with stuck digit : '2cups': '2','cups'\n",
    "        check=sum([re.findall(r'[A-Za-z]+|[\\d./]+', x) for x in check],[])\n",
    "        \n",
    "        techniques=[]\n",
    "        units=[]\n",
    "        one_ingr=None\n",
    "        no_unit=True\n",
    "        no_number=True\n",
    "        check = list(filter(None, check))\n",
    "        for word in check:\n",
    "            if word in techniques_list:#check if it belongs to our technics list\n",
    "                techniques.append(word)\n",
    "            elif word in ingredients_list:#check if it belongs to our ingredient list\n",
    "                one_ingr=word\n",
    "            elif bool(re.search(r'\\d',word)) and (no_number):#check if it belongs to our unit list or is alphanumeric\n",
    "                units.append(word)\n",
    "                no_number=False\n",
    "            elif (word in units_list )and (word not in ['unit','stalk','package']) and (no_unit):\n",
    "                units.append(word)\n",
    "                no_unit=False\n",
    "        for biword in nltk.bigrams(check): # check if we have a biword ingredient\n",
    "            if ' '.join(biword) in ingredients_list:\n",
    "                one_ingr=' '.join(biword)\n",
    "        if one_ingr==None :      # check if we have no ingredient : avoid this element of recipe\n",
    "            wasted_number=wasted_number+1\n",
    "            wasted_ingr.append(' '.join(check))\n",
    "            continue\n",
    "        if(len(' '.join(units))==0):  # fill with a special unit if we are dealing with no quantity\n",
    "            units.append('200')         \n",
    "        elif no_unit and (one_ingr in ingred_unit):       \n",
    "            units.append(str(ingred_unit[one_ingr]))\n",
    "            \n",
    "        elif no_unit :                              \n",
    "            units.append('200')\n",
    "\n",
    "        elif no_number:\n",
    "            units.append(1)\n",
    "\n",
    "\n",
    "        units=' '.join((units))\n",
    "        if to_gram:\n",
    "            units=fun_unit_corrector(units)\n",
    "\n",
    "        dic_ingre[one_ingr]=units\n",
    "        dic_tec[one_ingr]=' '.join(techniques)\n",
    "\n",
    "    return dic_ingre,dic_tec,wasted_ingr,wasted_number"
   ]
  },
  {
   "cell_type": "code",
   "execution_count": 104,
   "metadata": {},
   "outputs": [
    {
     "name": "stdout",
     "output_type": "stream",
     "text": [
      "3/4 cup small-diced red onion |1 1/2 cups small-diced celery |1/2 cup small-diced red bell pepper |1/2 cup small-diced yellow bell pepper |1/4 cup minced fresh flat-leaf parsley|1 tablespoon capers, drained|1/4 teaspoon tabasco sauce|1/2 teaspoon worcestershire sauce|1 1/2 teaspoons old bay seasoning|1/2 teaspoon kosher salt|1/2 teaspoon fresh ground black pepper|1/2 lb cooked salmon|3/4 cup panko  or 3/4 cup plain breadcrumbs|1/2 cup good mayonnaise|2 teaspoons dijon mustard|2 extra-large eggs, lightly beaten\n"
     ]
    },
    {
     "data": {
      "text/plain": [
       "{'black pepper': 2.5,\n",
       " 'breadcrumb': 177.75,\n",
       " 'caper': 15.0,\n",
       " 'celery': 237.0,\n",
       " 'dijon mustard': 10.0,\n",
       " 'egg': 100.0,\n",
       " 'mayonnaise': 118.5,\n",
       " 'parsley': 59.25,\n",
       " 'pepper': 118.5,\n",
       " 'red onion': 177.75,\n",
       " 'salmon': 226.5,\n",
       " 'salt': 2.5,\n",
       " 'sauce': 1.25,\n",
       " 'seasoning': 5.0,\n",
       " 'worcestershire sauce': 2.5}"
      ]
     },
     "execution_count": 104,
     "metadata": {},
     "output_type": "execute_result"
    }
   ],
   "source": [
    "# !!!!! ----- Test cell : to inspect a specific recipe ----- !!!!!! #\n",
    "receipe=ingr_dataframe.loc[99]['Recipe_preporcess']\n",
    "print(receipe)\n",
    "dic_ingr,dictec,wasted,wasted_numb=fun_extract_ingredients\\\n",
    "    (receipe,ingredient_list,techniques_list,units_list,to_gram=True)\n",
    "dic_ingr"
   ]
  },
  {
   "cell_type": "code",
   "execution_count": 8,
   "metadata": {},
   "outputs": [
    {
     "data": {
      "text/html": [
       "<div>\n",
       "<style>\n",
       "    .dataframe thead tr:only-child th {\n",
       "        text-align: right;\n",
       "    }\n",
       "\n",
       "    .dataframe thead th {\n",
       "        text-align: left;\n",
       "    }\n",
       "\n",
       "    .dataframe tbody tr th {\n",
       "        vertical-align: top;\n",
       "    }\n",
       "</style>\n",
       "<table border=\"1\" class=\"dataframe\">\n",
       "  <thead>\n",
       "    <tr style=\"text-align: right;\">\n",
       "      <th></th>\n",
       "      <th>acidulated water</th>\n",
       "      <th>acorn squash</th>\n",
       "      <th>ale</th>\n",
       "      <th>aleppo pepper</th>\n",
       "      <th>allspice</th>\n",
       "      <th>almond</th>\n",
       "      <th>almond extract</th>\n",
       "      <th>almond milk</th>\n",
       "      <th>amaranth</th>\n",
       "      <th>amaretti</th>\n",
       "      <th>...</th>\n",
       "      <th>worcestershire sauce</th>\n",
       "      <th>wrap</th>\n",
       "      <th>yam</th>\n",
       "      <th>yeast</th>\n",
       "      <th>yellow lentil</th>\n",
       "      <th>yoghurt</th>\n",
       "      <th>yogurt</th>\n",
       "      <th>yuzu</th>\n",
       "      <th>zest</th>\n",
       "      <th>zucchini</th>\n",
       "    </tr>\n",
       "  </thead>\n",
       "  <tbody>\n",
       "    <tr>\n",
       "      <th>0</th>\n",
       "      <td>NaN</td>\n",
       "      <td>NaN</td>\n",
       "      <td>NaN</td>\n",
       "      <td>NaN</td>\n",
       "      <td>NaN</td>\n",
       "      <td>NaN</td>\n",
       "      <td>NaN</td>\n",
       "      <td>NaN</td>\n",
       "      <td>NaN</td>\n",
       "      <td>NaN</td>\n",
       "      <td>...</td>\n",
       "      <td>NaN</td>\n",
       "      <td>NaN</td>\n",
       "      <td>NaN</td>\n",
       "      <td>NaN</td>\n",
       "      <td>NaN</td>\n",
       "      <td>NaN</td>\n",
       "      <td>NaN</td>\n",
       "      <td>NaN</td>\n",
       "      <td>NaN</td>\n",
       "      <td>NaN</td>\n",
       "    </tr>\n",
       "    <tr>\n",
       "      <th>1</th>\n",
       "      <td>NaN</td>\n",
       "      <td>NaN</td>\n",
       "      <td>NaN</td>\n",
       "      <td>NaN</td>\n",
       "      <td>NaN</td>\n",
       "      <td>NaN</td>\n",
       "      <td>NaN</td>\n",
       "      <td>NaN</td>\n",
       "      <td>NaN</td>\n",
       "      <td>NaN</td>\n",
       "      <td>...</td>\n",
       "      <td>NaN</td>\n",
       "      <td>NaN</td>\n",
       "      <td>NaN</td>\n",
       "      <td>NaN</td>\n",
       "      <td>NaN</td>\n",
       "      <td>NaN</td>\n",
       "      <td>NaN</td>\n",
       "      <td>NaN</td>\n",
       "      <td>29.625</td>\n",
       "      <td>NaN</td>\n",
       "    </tr>\n",
       "    <tr>\n",
       "      <th>2</th>\n",
       "      <td>NaN</td>\n",
       "      <td>NaN</td>\n",
       "      <td>NaN</td>\n",
       "      <td>NaN</td>\n",
       "      <td>NaN</td>\n",
       "      <td>NaN</td>\n",
       "      <td>10</td>\n",
       "      <td>NaN</td>\n",
       "      <td>NaN</td>\n",
       "      <td>NaN</td>\n",
       "      <td>...</td>\n",
       "      <td>NaN</td>\n",
       "      <td>NaN</td>\n",
       "      <td>NaN</td>\n",
       "      <td>NaN</td>\n",
       "      <td>NaN</td>\n",
       "      <td>NaN</td>\n",
       "      <td>NaN</td>\n",
       "      <td>NaN</td>\n",
       "      <td>NaN</td>\n",
       "      <td>NaN</td>\n",
       "    </tr>\n",
       "    <tr>\n",
       "      <th>3</th>\n",
       "      <td>NaN</td>\n",
       "      <td>NaN</td>\n",
       "      <td>NaN</td>\n",
       "      <td>NaN</td>\n",
       "      <td>NaN</td>\n",
       "      <td>NaN</td>\n",
       "      <td>5</td>\n",
       "      <td>NaN</td>\n",
       "      <td>NaN</td>\n",
       "      <td>NaN</td>\n",
       "      <td>...</td>\n",
       "      <td>NaN</td>\n",
       "      <td>NaN</td>\n",
       "      <td>NaN</td>\n",
       "      <td>NaN</td>\n",
       "      <td>NaN</td>\n",
       "      <td>NaN</td>\n",
       "      <td>NaN</td>\n",
       "      <td>NaN</td>\n",
       "      <td>NaN</td>\n",
       "      <td>NaN</td>\n",
       "    </tr>\n",
       "    <tr>\n",
       "      <th>4</th>\n",
       "      <td>NaN</td>\n",
       "      <td>NaN</td>\n",
       "      <td>NaN</td>\n",
       "      <td>NaN</td>\n",
       "      <td>NaN</td>\n",
       "      <td>NaN</td>\n",
       "      <td>NaN</td>\n",
       "      <td>NaN</td>\n",
       "      <td>NaN</td>\n",
       "      <td>NaN</td>\n",
       "      <td>...</td>\n",
       "      <td>NaN</td>\n",
       "      <td>NaN</td>\n",
       "      <td>NaN</td>\n",
       "      <td>NaN</td>\n",
       "      <td>NaN</td>\n",
       "      <td>NaN</td>\n",
       "      <td>NaN</td>\n",
       "      <td>NaN</td>\n",
       "      <td>NaN</td>\n",
       "      <td>NaN</td>\n",
       "    </tr>\n",
       "  </tbody>\n",
       "</table>\n",
       "<p>5 rows × 804 columns</p>\n",
       "</div>"
      ],
      "text/plain": [
       "  acidulated water acorn squash  ale aleppo pepper allspice almond  \\\n",
       "0              NaN          NaN  NaN           NaN      NaN    NaN   \n",
       "1              NaN          NaN  NaN           NaN      NaN    NaN   \n",
       "2              NaN          NaN  NaN           NaN      NaN    NaN   \n",
       "3              NaN          NaN  NaN           NaN      NaN    NaN   \n",
       "4              NaN          NaN  NaN           NaN      NaN    NaN   \n",
       "\n",
       "  almond extract  almond milk  amaranth amaretti   ...     \\\n",
       "0            NaN          NaN       NaN      NaN   ...      \n",
       "1            NaN          NaN       NaN      NaN   ...      \n",
       "2             10          NaN       NaN      NaN   ...      \n",
       "3              5          NaN       NaN      NaN   ...      \n",
       "4            NaN          NaN       NaN      NaN   ...      \n",
       "\n",
       "  worcestershire sauce wrap  yam  yeast yellow lentil yoghurt yogurt yuzu  \\\n",
       "0                  NaN  NaN  NaN    NaN           NaN     NaN    NaN  NaN   \n",
       "1                  NaN  NaN  NaN    NaN           NaN     NaN    NaN  NaN   \n",
       "2                  NaN  NaN  NaN    NaN           NaN     NaN    NaN  NaN   \n",
       "3                  NaN  NaN  NaN    NaN           NaN     NaN    NaN  NaN   \n",
       "4                  NaN  NaN  NaN    NaN           NaN     NaN    NaN  NaN   \n",
       "\n",
       "     zest zucchini  \n",
       "0     NaN      NaN  \n",
       "1  29.625      NaN  \n",
       "2     NaN      NaN  \n",
       "3     NaN      NaN  \n",
       "4     NaN      NaN  \n",
       "\n",
       "[5 rows x 804 columns]"
      ]
     },
     "metadata": {},
     "output_type": "display_data"
    },
    {
     "name": "stdout",
     "output_type": "stream",
     "text": [
      "There are :  804 ingredients\n"
     ]
    }
   ],
   "source": [
    "#----- Use whole data frame to extract each ingredient with its quantity and unit by using the lists  ------ #\n",
    "\n",
    "ingr_data_reduced=ingr_dataframe.head(100)\n",
    "all_dic=[]\n",
    "not_used_ingr=[]\n",
    "wastes=0\n",
    "for index, row in ingr_dataframe.iterrows():\n",
    "    recipe=row['Recipe_preporcess']\n",
    "    # Function in str_functions.py to extract the ingredients for each recipe\n",
    "    dic_ingre,dictec,wasted_ingr,wasted_number=fun_extract_ingredients\\\n",
    "            (recipe,ingredient_list,techniques_list,units_list,to_gram=True)\n",
    "    # Also convert each quantity in the same unit (grams) if to_gram is set to True\n",
    "    all_dic.append(dic_ingre)\n",
    "\n",
    "# We implemented the number of ingredients which didn't fit the criteria \n",
    "# Then we plotted the ingredient that we threw away in order to complete manually our ingredient list with important ingredients that our list may miss\n",
    "    #not_used_ingr.append(wasted_ingr) \n",
    "    #wastes=wastes+wasted_number\n",
    "    \n",
    "# ----- Create the dataframe of all the ingredient and their quantities ----- #\n",
    "ingredients_frame=pd.DataFrame(data=all_dic)\n",
    "display(ingredients_frame.head(5))\n",
    "\n",
    "# ----- Print the number of ingredients ----- #\n",
    "print('There are : ',len(list(ingredients_frame)), 'ingredients')\n",
    "ingred_used={}\n",
    "for i in list(ingredients_frame):\n",
    "    ingred_used[i]=sum(ingredients_frame[i].value_counts())"
   ]
  },
  {
   "cell_type": "code",
   "execution_count": null,
   "metadata": {},
   "outputs": [],
   "source": [
    "ingredients_frame.loc[1]['carrot']"
   ]
  },
  {
   "cell_type": "code",
   "execution_count": null,
   "metadata": {},
   "outputs": [],
   "source": [
    "(ingredients_frame['carrot'].astype(str).str.find('u'))"
   ]
  },
  {
   "cell_type": "markdown",
   "metadata": {},
   "source": [
    "## Creation of the unit values in grams of each elem"
   ]
  },
  {
   "cell_type": "code",
   "execution_count": 20,
   "metadata": {},
   "outputs": [
    {
     "data": {
      "text/plain": [
       "285"
      ]
     },
     "execution_count": 20,
     "metadata": {},
     "output_type": "execute_result"
    }
   ],
   "source": [
    "match_ingred=np.load('match_ingred.npy')\n",
    "#Analyse the matching between ingredients that we got in webscrapping  and ingredients that have a ratio of more \n",
    "#than 0.2 of 'u' unit and will pose a real problem. \n",
    "len(match_ingred)"
   ]
  },
  {
   "cell_type": "code",
   "execution_count": 21,
   "metadata": {},
   "outputs": [
    {
     "name": "stderr",
     "output_type": "stream",
     "text": [
      "//anaconda/lib/python3.6/site-packages/ipykernel/__main__.py:7: SettingWithCopyWarning: \n",
      "A value is trying to be set on a copy of a slice from a DataFrame\n",
      "\n",
      "See the caveats in the documentation: http://pandas.pydata.org/pandas-docs/stable/indexing.html#indexing-view-versus-copy\n"
     ]
    },
    {
     "ename": "KeyboardInterrupt",
     "evalue": "",
     "output_type": "error",
     "traceback": [
      "\u001b[0;31m-----------------------------------------------------------------------\u001b[0m",
      "\u001b[0;31mKeyboardInterrupt\u001b[0m                     Traceback (most recent call last)",
      "\u001b[0;32m<ipython-input-21-35c372b7495b>\u001b[0m in \u001b[0;36m<module>\u001b[0;34m()\u001b[0m\n\u001b[1;32m      2\u001b[0m \u001b[0mtest_ingredients_frame\u001b[0m\u001b[0;34m=\u001b[0m\u001b[0mingredients_frame\u001b[0m\u001b[0;34m.\u001b[0m\u001b[0mcopy\u001b[0m\u001b[0;34m(\u001b[0m\u001b[0;34m)\u001b[0m\u001b[0;34m\u001b[0m\u001b[0m\n\u001b[1;32m      3\u001b[0m \u001b[0;32mfor\u001b[0m \u001b[0mingred\u001b[0m \u001b[0;32min\u001b[0m \u001b[0mlist\u001b[0m\u001b[0;34m(\u001b[0m\u001b[0mingredients_frame\u001b[0m\u001b[0;34m)\u001b[0m\u001b[0;34m:\u001b[0m\u001b[0;34m\u001b[0m\u001b[0m\n\u001b[0;32m----> 4\u001b[0;31m     \u001b[0mmean\u001b[0m \u001b[0;34m=\u001b[0m \u001b[0mingredients_frame\u001b[0m\u001b[0;34m[\u001b[0m\u001b[0mingred\u001b[0m\u001b[0;34m]\u001b[0m\u001b[0;34m.\u001b[0m\u001b[0mapply\u001b[0m\u001b[0;34m(\u001b[0m\u001b[0mpd\u001b[0m\u001b[0;34m.\u001b[0m\u001b[0mto_numeric\u001b[0m\u001b[0;34m,\u001b[0m \u001b[0merrors\u001b[0m\u001b[0;34m=\u001b[0m\u001b[0;34m'coerce'\u001b[0m\u001b[0;34m)\u001b[0m\u001b[0;34m.\u001b[0m\u001b[0mdropna\u001b[0m\u001b[0;34m(\u001b[0m\u001b[0maxis\u001b[0m\u001b[0;34m=\u001b[0m\u001b[0;36m0\u001b[0m\u001b[0;34m,\u001b[0m \u001b[0mhow\u001b[0m\u001b[0;34m=\u001b[0m\u001b[0;34m'any'\u001b[0m\u001b[0;34m)\u001b[0m\u001b[0;34m.\u001b[0m\u001b[0mmean\u001b[0m\u001b[0;34m(\u001b[0m\u001b[0;34m)\u001b[0m\u001b[0;34m\u001b[0m\u001b[0m\n\u001b[0m\u001b[1;32m      5\u001b[0m     \u001b[0;32mif\u001b[0m \u001b[0mmath\u001b[0m\u001b[0;34m.\u001b[0m\u001b[0misnan\u001b[0m\u001b[0;34m(\u001b[0m\u001b[0mmean\u001b[0m\u001b[0;34m)\u001b[0m\u001b[0;34m:\u001b[0m\u001b[0;34m\u001b[0m\u001b[0m\n\u001b[1;32m      6\u001b[0m         \u001b[0mmean\u001b[0m\u001b[0;34m=\u001b[0m\u001b[0;36m1\u001b[0m\u001b[0;34m\u001b[0m\u001b[0m\n",
      "\u001b[0;32m//anaconda/lib/python3.6/site-packages/pandas/core/series.py\u001b[0m in \u001b[0;36mapply\u001b[0;34m(self, func, convert_dtype, args, **kwds)\u001b[0m\n\u001b[1;32m   2353\u001b[0m             \u001b[0;32melse\u001b[0m\u001b[0;34m:\u001b[0m\u001b[0;34m\u001b[0m\u001b[0m\n\u001b[1;32m   2354\u001b[0m                 \u001b[0mvalues\u001b[0m \u001b[0;34m=\u001b[0m \u001b[0mself\u001b[0m\u001b[0;34m.\u001b[0m\u001b[0masobject\u001b[0m\u001b[0;34m\u001b[0m\u001b[0m\n\u001b[0;32m-> 2355\u001b[0;31m                 \u001b[0mmapped\u001b[0m \u001b[0;34m=\u001b[0m \u001b[0mlib\u001b[0m\u001b[0;34m.\u001b[0m\u001b[0mmap_infer\u001b[0m\u001b[0;34m(\u001b[0m\u001b[0mvalues\u001b[0m\u001b[0;34m,\u001b[0m \u001b[0mf\u001b[0m\u001b[0;34m,\u001b[0m \u001b[0mconvert\u001b[0m\u001b[0;34m=\u001b[0m\u001b[0mconvert_dtype\u001b[0m\u001b[0;34m)\u001b[0m\u001b[0;34m\u001b[0m\u001b[0m\n\u001b[0m\u001b[1;32m   2356\u001b[0m \u001b[0;34m\u001b[0m\u001b[0m\n\u001b[1;32m   2357\u001b[0m         \u001b[0;32mif\u001b[0m \u001b[0mlen\u001b[0m\u001b[0;34m(\u001b[0m\u001b[0mmapped\u001b[0m\u001b[0;34m)\u001b[0m \u001b[0;32mand\u001b[0m \u001b[0misinstance\u001b[0m\u001b[0;34m(\u001b[0m\u001b[0mmapped\u001b[0m\u001b[0;34m[\u001b[0m\u001b[0;36m0\u001b[0m\u001b[0;34m]\u001b[0m\u001b[0;34m,\u001b[0m \u001b[0mSeries\u001b[0m\u001b[0;34m)\u001b[0m\u001b[0;34m:\u001b[0m\u001b[0;34m\u001b[0m\u001b[0m\n",
      "\u001b[0;32mpandas/_libs/src/inference.pyx\u001b[0m in \u001b[0;36mpandas._libs.lib.map_infer\u001b[0;34m()\u001b[0m\n",
      "\u001b[0;32m//anaconda/lib/python3.6/site-packages/pandas/core/series.py\u001b[0m in \u001b[0;36m<lambda>\u001b[0;34m(x)\u001b[0m\n\u001b[1;32m   2340\u001b[0m         \u001b[0;31m# handle ufuncs and lambdas\u001b[0m\u001b[0;34m\u001b[0m\u001b[0;34m\u001b[0m\u001b[0m\n\u001b[1;32m   2341\u001b[0m         \u001b[0;32mif\u001b[0m \u001b[0mkwds\u001b[0m \u001b[0;32mor\u001b[0m \u001b[0margs\u001b[0m \u001b[0;32mand\u001b[0m \u001b[0;32mnot\u001b[0m \u001b[0misinstance\u001b[0m\u001b[0;34m(\u001b[0m\u001b[0mfunc\u001b[0m\u001b[0;34m,\u001b[0m \u001b[0mnp\u001b[0m\u001b[0;34m.\u001b[0m\u001b[0mufunc\u001b[0m\u001b[0;34m)\u001b[0m\u001b[0;34m:\u001b[0m\u001b[0;34m\u001b[0m\u001b[0m\n\u001b[0;32m-> 2342\u001b[0;31m             \u001b[0mf\u001b[0m \u001b[0;34m=\u001b[0m \u001b[0;32mlambda\u001b[0m \u001b[0mx\u001b[0m\u001b[0;34m:\u001b[0m \u001b[0mfunc\u001b[0m\u001b[0;34m(\u001b[0m\u001b[0mx\u001b[0m\u001b[0;34m,\u001b[0m \u001b[0;34m*\u001b[0m\u001b[0margs\u001b[0m\u001b[0;34m,\u001b[0m \u001b[0;34m**\u001b[0m\u001b[0mkwds\u001b[0m\u001b[0;34m)\u001b[0m\u001b[0;34m\u001b[0m\u001b[0m\n\u001b[0m\u001b[1;32m   2343\u001b[0m         \u001b[0;32melse\u001b[0m\u001b[0;34m:\u001b[0m\u001b[0;34m\u001b[0m\u001b[0m\n\u001b[1;32m   2344\u001b[0m             \u001b[0mf\u001b[0m \u001b[0;34m=\u001b[0m \u001b[0mfunc\u001b[0m\u001b[0;34m\u001b[0m\u001b[0m\n",
      "\u001b[0;31mKeyboardInterrupt\u001b[0m: "
     ]
    }
   ],
   "source": [
    "ratio_u_ingred={}\n",
    "test_ingredients_frame=ingredients_frame.copy()\n",
    "for ingred in list(ingredients_frame):\n",
    "    mean = ingredients_frame[ingred].apply(pd.to_numeric, errors='coerce').dropna(axis=0, how='any').mean()\n",
    "    if math.isnan(mean):\n",
    "        mean=1\n",
    "    test_ingredients_frame[ingred][ingredients_frame[ingred].astype(str).str.contains('u')]=mean\n",
    "    #calculate the ratio of unit in each ingredient:\n",
    "    ratio_u_ingred[ingred]=\\\n",
    "    sum(ingredients_frame[ingred].dropna(axis=0, how='any').astype(str).str.contains('u'))/len(ingredients_frame[ingred].dropna(axis=0, how='any').astype(str).str.contains('u'))"
   ]
  },
  {
   "cell_type": "code",
   "execution_count": null,
   "metadata": {},
   "outputs": [],
   "source": [
    "ratio_u=sorted(key for (key,value) in ratio_u_ingred.items() if value>0.2)\n",
    "ingred_tocheck=ratio_u\n",
    "remaining_untreated=[x for x in ingred_tocheck if x not in match_ingred]\n",
    "len(ingred_tocheck)"
   ]
  },
  {
   "cell_type": "code",
   "execution_count": 22,
   "metadata": {},
   "outputs": [],
   "source": [
    "#Load the dataframe webscrapped\n",
    "unit_scraped=pd.read_csv('bbc_scraped.csv','\\t').dropna(how='all',axis=1)\n",
    "unit_scraped.set_index('Unnamed: 0',inplace=True)\n",
    "#unit_scraped.count(axis=0)"
   ]
  },
  {
   "cell_type": "code",
   "execution_count": 23,
   "metadata": {
    "collapsed": true
   },
   "outputs": [],
   "source": [
    "#load the list created\n",
    "unit_created=pd.read_csv('BBC_unit.csv',sep=';')\n",
    "unit_created.set_index('Unnamed: 0',inplace=True)"
   ]
  },
  {
   "cell_type": "code",
   "execution_count": 24,
   "metadata": {},
   "outputs": [],
   "source": [
    "ingred_unit={}\n",
    "for index, row  in unit_scraped.iterrows():\n",
    "    units=[]\n",
    "    for i,quant in enumerate(list(row.dropna().index)):\n",
    "        quant=quant.replace(',','').lower()\n",
    "        if any(q in units_list+['slice']+['nlea'] for q in quant.split(' ') if len(q)>0):\n",
    "            a=1\n",
    "        else:\n",
    "            gram_val=float([re.sub('[^0-9]','',  row.dropna().values[i])][0])\n",
    "            units.append(gram_val)\n",
    "    if len(units)==0:\n",
    "        units=200\n",
    "    ingred_unit[index]=np.mean(units)\n",
    "    #print(list(row.dropna().index))"
   ]
  },
  {
   "cell_type": "code",
   "execution_count": 26,
   "metadata": {},
   "outputs": [
    {
     "data": {
      "text/plain": [
       "276"
      ]
     },
     "execution_count": 26,
     "metadata": {},
     "output_type": "execute_result"
    }
   ],
   "source": [
    "len(ingred_unit)"
   ]
  },
  {
   "cell_type": "code",
   "execution_count": null,
   "metadata": {},
   "outputs": [],
   "source": [
    "unit_created.head()"
   ]
  },
  {
   "cell_type": "code",
   "execution_count": 27,
   "metadata": {},
   "outputs": [],
   "source": [
    "for index, row in unit_created.iterrows():\n",
    "    if index in ingred_unit:\n",
    "        print('weirdo')\n",
    "    ingred_unit[index]=row['1 Unit']\n",
    "    "
   ]
  },
  {
   "cell_type": "code",
   "execution_count": 28,
   "metadata": {},
   "outputs": [
    {
     "data": {
      "text/plain": [
       "530"
      ]
     },
     "execution_count": 28,
     "metadata": {},
     "output_type": "execute_result"
    }
   ],
   "source": [
    "len(ingred_unit)"
   ]
  },
  {
   "cell_type": "code",
   "execution_count": 103,
   "metadata": {},
   "outputs": [],
   "source": [
    "ingred_unit['clove']=2\n",
    "ingred_unit['egg']=50"
   ]
  },
  {
   "cell_type": "code",
   "execution_count": null,
   "metadata": {},
   "outputs": [],
   "source": [
    "#longue boucle pour changer tout les u \n",
    "\n",
    "k=0\n",
    "for ingr in list(ingredients_frame):\n",
    "    u_list=ingredients_frame[ingr].astype(str).str.find('u')\n",
    "    k=k+1\n",
    "    if k%10==0:\n",
    "        print(k)\n",
    "    for u_pos,u_val in enumerate(u_list):\n",
    "        if u_val>0:\n",
    "            if ingr in ingred_unit:\n",
    "                ingredients_frame.iloc[u_pos][ingr]=\\\n",
    "                float([re.sub('[^0-9]','',ingredients_frame.loc[u_pos][ingr])][0])\\\n",
    "                *ingred_unit[ingr]\n",
    "            else:\n",
    "                ingredients_frame.iloc[u_pos][ingr]=\\\n",
    "                float([re.sub('[^0-9]','',ingredients_frame.loc[u_pos][ingr])][0])\\\n",
    "                *200"
   ]
  },
  {
   "cell_type": "code",
   "execution_count": null,
   "metadata": {
    "collapsed": true
   },
   "outputs": [],
   "source": []
  }
 ],
 "metadata": {
  "kernelspec": {
   "display_name": "Python [default]",
   "language": "python",
   "name": "python3"
  },
  "language_info": {
   "codemirror_mode": {
    "name": "ipython",
    "version": 3
   },
   "file_extension": ".py",
   "mimetype": "text/x-python",
   "name": "python",
   "nbconvert_exporter": "python",
   "pygments_lexer": "ipython3",
   "version": "3.6.3"
  }
 },
 "nbformat": 4,
 "nbformat_minor": 2
}
