{
 "cells": [
  {
   "cell_type": "code",
   "execution_count": 1,
   "metadata": {
    "collapsed": true
   },
   "outputs": [],
   "source": [
    "import pandas as pd\n",
    "import re\n",
    "import sys\n",
    "import numpy as np\n",
    "import nltk\n",
    "from nltk.corpus import wordnet as wn\n",
    "from nltk import pos_tag\n",
    "from nltk.tag import UnigramTagger\n",
    "from nltk.corpus import brown\n",
    "import webcolors\n",
    "sys.path.append(\"..\")\n",
    "from ADA_JEX2017.Project.Functions.list_creation import *\n",
    "from ADA_JEX2017.Project.Functions.pre_process import *"
   ]
  },
  {
   "cell_type": "code",
   "execution_count": 2,
   "metadata": {
    "collapsed": true
   },
   "outputs": [],
   "source": [
    "path='../ADA_JEX2017/Project/Functions/'"
   ]
  },
  {
   "cell_type": "markdown",
   "metadata": {},
   "source": [
    "### Units list\n",
    "\n",
    "The unit list was created using the usefull units found in \"https://en.wikibooks.org/wiki/Cookbook:Units_of_measurement\".\n",
    "We completed this list adding some personalized units found in our dataset"
   ]
  },
  {
   "cell_type": "markdown",
   "metadata": {},
   "source": [
    "### Ingredients list\n",
    "To create this list, some webscrapping was done on http://www.bbc.co.uk/food/ingredients . We added a few monogram that were present in the list only in the bi-gram form (ex: vanilla, peach, etc..)"
   ]
  },
  {
   "cell_type": "code",
   "execution_count": 3,
   "metadata": {},
   "outputs": [
    {
     "name": "stdout",
     "output_type": "stream",
     "text": [
      "Ingredient_list.txt has been created\n"
     ]
    }
   ],
   "source": [
    "fun_ingredients_list(path)"
   ]
  },
  {
   "cell_type": "markdown",
   "metadata": {},
   "source": [
    "### Technics list"
   ]
  },
  {
   "cell_type": "code",
   "execution_count": null,
   "metadata": {
    "collapsed": true
   },
   "outputs": [],
   "source": [
    "#our datafile exported to csv\n",
    "data_file='./recipeInfo/recipeInfo_WestWhiteHorvitz_WWW2013.csv'\n",
    "raw_data = pd.read_csv(data_file ,sep=';')\n",
    "\n",
    "ingr_dataframe=raw_data[['title','ingredients_list','ingredients_bag-of-words']].copy().dropna()\n",
    "ingr_dataframe = ingr_dataframe.reset_index(drop=True)\n",
    "ingr_data_reduced=ingr_dataframe.head(100)\n",
    "#we ignore upper case in the ingredients string\n",
    "ingr_dataframe['ingredients_list']=ingr_dataframe['ingredients_list'].str.lower()"
   ]
  },
  {
   "cell_type": "code",
   "execution_count": null,
   "metadata": {
    "collapsed": true
   },
   "outputs": [],
   "source": [
    "with open(path+'units_list.txt', 'r') as f:\n",
    "    units_list = [line.rstrip('\\n') for line in f]\n",
    "add_preprocess(ingr_dataframe,units_list)"
   ]
  },
  {
   "cell_type": "code",
   "execution_count": null,
   "metadata": {
    "collapsed": true
   },
   "outputs": [],
   "source": [
    "fun_technique_list(ingr_dataframe,path)"
   ]
  }
 ],
 "metadata": {
  "kernelspec": {
   "display_name": "Python [conda root]",
   "language": "python",
   "name": "conda-root-py"
  },
  "language_info": {
   "codemirror_mode": {
    "name": "ipython",
    "version": 3
   },
   "file_extension": ".py",
   "mimetype": "text/x-python",
   "name": "python",
   "nbconvert_exporter": "python",
   "pygments_lexer": "ipython3",
   "version": "3.6.3"
  }
 },
 "nbformat": 4,
 "nbformat_minor": 2
}
